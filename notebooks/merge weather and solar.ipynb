{
 "cells": [
  {
   "cell_type": "code",
   "execution_count": 13,
   "id": "f41bd6a2-0c5d-4c85-80c8-2f34852b06dc",
   "metadata": {},
   "outputs": [
    {
     "name": "stdout",
     "output_type": "stream",
     "text": [
      "       LOCATION           DATE_TIME  AMBIENT_TEMPERATURE  MODULE_TEMPERATURE  \\\n",
      "48807         A 2020-06-08 12:30:00            29.023849           47.740524   \n",
      "113257        B 2020-06-07 00:00:00            24.385717           22.619038   \n",
      "118357        B 2020-06-09 10:00:00            29.874267           46.256399   \n",
      "\n",
      "        IRRADIATION  SENSOR_ID      DC_POWER     AC_POWER  DAILY_YIELD  \\\n",
      "48807      0.894203  sensor 24  11187.750000  1092.100000  4463.125000   \n",
      "113257     0.022282  sensor 33      0.000000     0.000000  3599.000000   \n",
      "118357     0.772295  sensor 21    670.078571   653.721429  1981.285714   \n",
      "\n",
      "         TOTAL_YIELD  \n",
      "48807   7.277916e+06  \n",
      "113257  4.684650e+05  \n",
      "118357  1.818672e+08  \n"
     ]
    }
   ],
   "source": [
    "import pandas as pd\n",
    "\n",
    "# Load the weather and solar datasets (replace 'weather_data.csv' and 'solar_data.csv' with actual file paths)\n",
    "weather_data = pd.read_csv('cleaned_data_weather.csv')\n",
    "solar_data = pd.read_csv('cleaned_data_solar1.csv')\n",
    "\n",
    "# Convert the DATE_TIME columns to datetime format in both datasets\n",
    "weather_data['DATE_TIME'] = pd.to_datetime(weather_data['DATE_TIME'])\n",
    "solar_data['DATE_TIME'] = pd.to_datetime(solar_data['DATE_TIME'])\n",
    "\n",
    "# Merge datasets on LOCATION and DATE_TIME\n",
    "merged_data = pd.merge(weather_data, solar_data, on=['LOCATION', 'DATE_TIME'], how='inner')\n",
    "\n",
    "# View the merged dataset\n",
    "print(merged_data.sample(3))\n",
    "\n",
    "# Save merged data to a CSV file\n",
    "merged_data.to_csv('merged_data_weathersolar.csv', index=False)\n",
    "\n",
    "# Optionally, you may resample the weather data to match the solar data if needed:\n",
    "# weather_data_resampled = weather_data.set_index('DATE_TIME').resample('15T').mean().reset_index()\n"
   ]
  },
  {
   "cell_type": "code",
   "execution_count": null,
   "id": "f990a3b8-9eee-48d2-a3e3-0fd3e88ec461",
   "metadata": {},
   "outputs": [],
   "source": []
  }
 ],
 "metadata": {
  "kernelspec": {
   "display_name": "Python 3 (ipykernel)",
   "language": "python",
   "name": "python3"
  },
  "language_info": {
   "codemirror_mode": {
    "name": "ipython",
    "version": 3
   },
   "file_extension": ".py",
   "mimetype": "text/x-python",
   "name": "python",
   "nbconvert_exporter": "python",
   "pygments_lexer": "ipython3",
   "version": "3.9.18"
  }
 },
 "nbformat": 4,
 "nbformat_minor": 5
}
