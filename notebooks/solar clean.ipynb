{
 "cells": [
  {
   "cell_type": "code",
   "execution_count": null,
   "id": "00e29d79-d760-404b-9733-8a8018b7c187",
   "metadata": {},
   "outputs": [],
   "source": []
  }
 ],
 "metadata": {
  "kernelspec": {
   "display_name": "",
   "name": ""
  },
  "language_info": {
   "name": ""
  }
 },
 "nbformat": 4,
 "nbformat_minor": 5
}
